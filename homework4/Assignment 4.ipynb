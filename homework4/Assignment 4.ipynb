{
 "cells": [
  {
   "cell_type": "code",
   "execution_count": 11,
   "metadata": {},
   "outputs": [],
   "source": [
    "import cv2\n",
    "import open3d as o3d\n",
    "import depthai as dai\n",
    "from slam import process\n",
    "from display import Display\n",
    "from pointmap import PointMap\n"
   ]
  },
  {
   "cell_type": "code",
   "execution_count": 3,
   "metadata": {},
   "outputs": [
    {
     "name": "stderr",
     "output_type": "stream",
     "text": [
      "C:\\Users\\azuma\\AppData\\Local\\Temp\\ipykernel_35508\\2085936821.py:13: DeprecationWarning: RGB is deprecated, use CAM_A or address camera by name instead.\n",
      "  camRgb.setBoardSocket(dai.CameraBoardSocket.RGB)\n"
     ]
    },
    {
     "name": "stdout",
     "output_type": "stream",
     "text": [
      "Connected cameras:  [<CameraBoardSocket.CAM_A: 0>, <CameraBoardSocket.CAM_B: 1>, <CameraBoardSocket.CAM_C: 2>]\n"
     ]
    },
    {
     "ename": "",
     "evalue": "",
     "output_type": "error",
     "traceback": [
      "\u001b[1;31mThe Kernel crashed while executing code in the current cell or a previous cell. \n",
      "\u001b[1;31mPlease review the code in the cell(s) to identify a possible cause of the failure. \n",
      "\u001b[1;31mClick <a href='https://aka.ms/vscodeJupyterKernelCrash'>here</a> for more info. \n",
      "\u001b[1;31mView Jupyter <a href='command:jupyter.viewOutput'>log</a> for further details."
     ]
    }
   ],
   "source": [
    "\n",
    "# Create a pipeline\n",
    "pipeline = dai.Pipeline()\n",
    "\n",
    "# Define a source - color camera\n",
    "camRgb = pipeline.createColorCamera()\n",
    "camRgb.setBoardSocket(dai.CameraBoardSocket.RGB)\n",
    "camRgb.setResolution(dai.ColorCameraProperties.SensorResolution.THE_4_K)\n",
    "camRgb.setVideoSize(1000, 1000)\n",
    "camRgb.setInterleaved(False)\n",
    "camRgb.setColorOrder(dai.ColorCameraProperties.ColorOrder.RGB)\n",
    "\n",
    "# Create outputs\n",
    "xoutRgb = pipeline.createXLinkOut()\n",
    "xoutRgb.setStreamName(\"rgb\")\n",
    "camRgb.preview.link(xoutRgb.input)\n",
    "\n",
    "xoutRgbVideo = pipeline.createXLinkOut()\n",
    "xoutRgbVideo.setStreamName(\"video\")\n",
    "xoutRgbVideo.input.setBlocking(False)\n",
    "xoutRgbVideo.input.setQueueSize(1)\n",
    "camRgb.video.link(xoutRgbVideo.input)\n",
    "\n",
    "# Create objects for point mapping and display\n",
    "pmap = PointMap()\n",
    "display = Display()\n",
    "pcd = o3d.geometry.PointCloud()\n",
    "visualizer = o3d.visualization.Visualizer()\n",
    "visualizer.create_window(window_name=\"3D plot\", width=960, height=540)\n",
    "\n",
    "# Connect to the device\n",
    "with dai.Device() as device:\n",
    "    print('Connected cameras: ', device.getConnectedCameras())\n",
    "    device.startPipeline(pipeline)\n",
    "\n",
    "    # Output queues\n",
    "    qRgb = device.getOutputQueue(name=\"rgb\", maxSize=30, blocking=False)\n",
    "    out = device.getOutputQueue(name=\"video\", maxSize=1, blocking=False)\n",
    "\n",
    "    while True:\n",
    "        frame = qRgb.get()\n",
    "        output = out.get()\n",
    "        frame = output.getCvFrame()\n",
    "\n",
    "        img, tripoints, kpts, matches = process(frame)\n",
    "        xyz = pmap.collect_points(tripoints)\n",
    "\n",
    "        if kpts is not None or matches is not None:\n",
    "            display.display_points2d(frame, kpts, matches)\n",
    "\n",
    "        display.display_vid(frame)\n",
    "\n",
    "        if xyz is not None:\n",
    "            display.display_points3d(xyz, pcd, visualizer)\n",
    "\n",
    "        key = cv2.waitKey(1)\n",
    "        if key == ord('q'):\n",
    "            break\n",
    "\n",
    "cv2.destroyAllWindows()\n"
   ]
  }
 ],
 "metadata": {
  "kernelspec": {
   "display_name": "Python 3",
   "language": "python",
   "name": "python3"
  },
  "language_info": {
   "codemirror_mode": {
    "name": "ipython",
    "version": 3
   },
   "file_extension": ".py",
   "mimetype": "text/x-python",
   "name": "python",
   "nbconvert_exporter": "python",
   "pygments_lexer": "ipython3",
   "version": "3.11.4"
  }
 },
 "nbformat": 4,
 "nbformat_minor": 2
}
