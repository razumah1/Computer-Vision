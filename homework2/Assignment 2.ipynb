{
 "cells": [
  {
   "cell_type": "code",
   "execution_count": 159,
   "metadata": {},
   "outputs": [],
   "source": [
    "import numpy as np\n",
    "import cv2\n",
    "import matplotlib.pyplot as plt\n"
   ]
  },
  {
   "cell_type": "code",
   "execution_count": 192,
   "metadata": {},
   "outputs": [
    {
     "name": "stdout",
     "output_type": "stream",
     "text": [
      "[[163 164 166 169 170]\n",
      " [121 124 129 132 136]\n",
      " [ 60  64  66  70  73]\n",
      " [ 19  21  21  22  22]\n",
      " [ 16  15  14  12  12]]\n"
     ]
    }
   ],
   "source": [
    "### Question 1\n",
    "# Canny Edge Detection\n",
    "\n",
    "image_path = './cropped_1.png'\n",
    "image = cv2.imread(image_path, cv2.IMREAD_GRAYSCALE)\n",
    "print(image)"
   ]
  },
  {
   "cell_type": "code",
   "execution_count": 194,
   "metadata": {},
   "outputs": [
    {
     "name": "stdout",
     "output_type": "stream",
     "text": [
      "[[   0.  284.   10.   14.    8. -298.    0.]\n",
      " [   0.  403.   15.   20.   12. -423.    0.]\n",
      " [   0.  448.   19.   25.   16. -473.    0.]\n",
      " [   0.  286.   15.   19.   13. -305.    0.]\n",
      " [   0.  148.    8.    8.    5. -156.    0.]\n",
      " [   0.   67.    2.    1.   -1.  -68.    0.]\n",
      " [   0.   36.    0.    0.   -2.  -36.    0.]]\n"
     ]
    }
   ],
   "source": [
    "# Gaussian Blur\n",
    "def gkernel(size=3, sig=2):\n",
    "\n",
    "    ax = np.linspace(-(size - 1) / 2., (size - 1) / 2., size)\n",
    "    xx, yy = np.meshgrid(ax, ax)\n",
    "\n",
    "    kernel = np.exp(-0.5 * (np.square(xx) + np.square(yy)) / np.square(sig))\n",
    "\n",
    "    return kernel / np.sum(kernel)\n",
    "\n",
    "guassian_blur = gkernel(3,1)\n",
    "\n",
    "#Image padding and gaussian smooth \n",
    "image_padded = np.full((7, 7), np.zeros(7), dtype=np.float32)\n",
    "image_padded[1:6, 1:6] = image\n",
    "\n",
    "blurred = cv2.filter2D(image, -1, guassian_blur)\n",
    "blurred_padded = np.full((7, 7), np.zeros(7), dtype=np.float32)\n",
    "blurred_padded[1:6, 1:6] = blurred\n",
    "\n",
    "\n",
    "#Sobel Filter\n",
    "sobel_x = np.array([[-1, 0, 1], [-2, 0, 2], [-1, 0, 1]], np.float32)\n",
    "grad_x = np.array(cv2.filter2D(blurred_padded, -1, sobel_x), dtype=np.float32)\n",
    "\n",
    "sobel_y = np.array([[1, 2, 1], [0, 0, 0], [-1, -2, -1]], np.float32)\n",
    "grad_y = np.array(cv2.filter2D(blurred_padded, -1, sobel_y), dtype=np.float32)\n",
    "\n",
    "print(grad_x)"
   ]
  },
  {
   "cell_type": "code",
   "execution_count": null,
   "metadata": {},
   "outputs": [],
   "source": [
    "\n",
    "\n",
    "# Compute gradient magnitude and direction\n",
    "gradient_magnitude = np.sqrt(grad_x[1:6, 1:6]**2 + grad_y[1:6, 1:6]**2)\n",
    "gradient_direction = np.arctan2(grad_y[1:6, 1:6], grad_x[1:6, 1:6]) * (180/np.pi)\n",
    "print(gradient_direction)\n",
    "print()\n",
    "print(gradient_magnitude)\n"
   ]
  },
  {
   "cell_type": "code",
   "execution_count": 190,
   "metadata": {},
   "outputs": [],
   "source": [
    "# Non-maximum suppression\n",
    "edges = np.zeros_like(image)\n",
    "M = image.shape[0]\n",
    "N = image.shape[1]\n",
    "\n",
    "for i in range(1, M-1): # i = 2\n",
    "    for j in range(1, N-1): # j = 0\n",
    "        try:\n",
    "            q = 0\n",
    "            r = 0\n",
    "            \n",
    "            # Get gradient magnitudes for neighboring pixels based on gradient direction\n",
    "            if (0 <= gradient_direction[i, j] < 22.5) or (157.5 <= gradient_direction[i, j] <= 180):\n",
    "                q = gradient_magnitude[i, j+1]\n",
    "                r = gradient_magnitude[i, j-1]\n",
    "            elif (22.5 <= gradient_direction[i, j] < 67.5):\n",
    "                q = gradient_magnitude[i+1, j-1]\n",
    "                r = gradient_magnitude[i-1, j+1]\n",
    "            elif (67.5 <= gradient_direction[i, j] < 112.5):\n",
    "                q = gradient_magnitude[i+1, j]\n",
    "                r = gradient_magnitude[i-1, j]\n",
    "            elif (112.5 <= gradient_direction[i, j] < 157.5):\n",
    "                q = gradient_magnitude[i-1, j-1]\n",
    "                r = gradient_magnitude[i+1, j+1]\n",
    "\n",
    "            # Perform non-maximum suppression\n",
    "            if (gradient_magnitude[i, j] >= q) and (gradient_magnitude[i, j] >= r):\n",
    "                edges[i, j] = gradient_magnitude[i, j]\n",
    "            else:\n",
    "                edges[i, j] = 0\n",
    "        except IndexError as e:\n",
    "            pass\n",
    "\n",
    "\n"
   ]
  },
  {
   "cell_type": "code",
   "execution_count": 191,
   "metadata": {},
   "outputs": [
    {
     "name": "stdout",
     "output_type": "stream",
     "text": [
      "[[  0   0   0   0   0]\n",
      " [  0   0   0   0   0]\n",
      " [  0 255 255 255   0]\n",
      " [  0   0   0   0   0]\n",
      " [  0   0   0   0   0]]\n"
     ]
    },
    {
     "data": {
      "text/plain": [
       "<matplotlib.image.AxesImage at 0x1930c2bc810>"
      ]
     },
     "execution_count": 191,
     "metadata": {},
     "output_type": "execute_result"
    },
    {
     "data": {
      "image/png": "[encoded data removed]",
      "text/plain": [
       "<Figure size 640x480 with 1 Axes>"
      ]
     },
     "metadata": {},
     "output_type": "display_data"
    }
   ],
   "source": [
    " # Apply double thresholding\n",
    "high_threshold = 0.7 * np.max(edges)\n",
    "low_threshold = 0.3 * np.max(edges)\n",
    "strong_edges = (edges > high_threshold)\n",
    "weak_edges = (edges > low_threshold) & (edges <= high_threshold)\n",
    "\n",
    "# Thresholding\n",
    "edges[edges < low_threshold] = 0\n",
    "edges[edges >= high_threshold] = 255\n",
    "\n",
    "print(edges)\n",
    "\n",
    "plt.imshow(edges, cmap = 'gray')"
   ]
  },
  {
   "cell_type": "code",
   "execution_count": 164,
   "metadata": {},
   "outputs": [
    {
     "name": "stdout",
     "output_type": "stream",
     "text": [
      "[[  0   0   0   0   0]\n",
      " [  0   0   0   0   0]\n",
      " [255 255 255 255 255]\n",
      " [  0   0   0   0   0]\n",
      " [  0   0   0   0   0]]\n"
     ]
    },
    {
     "data": {
      "text/plain": [
       "<matplotlib.image.AxesImage at 0x1930bdd25d0>"
      ]
     },
     "execution_count": 164,
     "metadata": {},
     "output_type": "execute_result"
    },
    {
     "data": {
      "image/png": "[encoded data removed]",
      "text/plain": [
       "<Figure size 1200x1200 with 2 Axes>"
      ]
     },
     "metadata": {},
     "output_type": "display_data"
    }
   ],
   "source": [
    "t_lower = 50  # Lower Threshold \n",
    "t_upper = 150  # Upper threshold \n",
    "  \n",
    "# Applying the Canny Edge filter \n",
    "edge = cv2.Canny(image, t_lower, t_upper) \n",
    "\n",
    "print(edge)\n",
    "plt.figure(figsize=(12, 12))\n",
    "plt.subplot(1, 2, 1)\n",
    "plt.title('original')\n",
    "plt.imshow(image, cmap='gray') \n",
    "plt.subplot(1, 2, 2)\n",
    "plt.title('edge')\n",
    "plt.imshow(edge, cmap='gray') "
   ]
  },
  {
   "cell_type": "code",
   "execution_count": 165,
   "metadata": {},
   "outputs": [
    {
     "name": "stdout",
     "output_type": "stream",
     "text": [
      "[[1 1 0 0 0]\n",
      " [1 1 0 0 0]\n",
      " [1 1 0 0 0]\n",
      " [1 1 0 0 0]\n",
      " [1 1 0 0 0]]\n"
     ]
    },
    {
     "data": {
      "image/png": "[encoded data removed]",
      "text/plain": [
       "<Figure size 640x480 with 1 Axes>"
      ]
     },
     "metadata": {},
     "output_type": "display_data"
    }
   ],
   "source": [
    "### Question 2\n",
    "# Harris Corner Detection Algorithm\n",
    "\n",
    "# Read the image\n",
    "img_path = './cropped.png'\n",
    "image = cv2.imread(img_path, cv2.IMREAD_GRAYSCALE)\n",
    "\n",
    "plt.imshow(image, cmap='gray')\n",
    "\n",
    "# Gaussian blur kernel\n",
    "gaussian = np.array([[1, 2, 1], [2, 4, 2], [1, 2, 1]]) / 16\n",
    "\n",
    "# Smooth the image\n",
    "image_padded = np.full((7, 7), np.average(image), dtype=np.float32)\n",
    "image_padded[1:6, 1:6] = image\n",
    "smooth = cv2.filter2D(image_padded, -1, gaussian)[1:6, 1:6]\n",
    "\n",
    "\n",
    "# Compute gradients using Sobel operator\n",
    "sobel_x = np.array([[-1, 0, 1], [-2, 0, 2], [-1, 0, 1]], np.float32)\n",
    "sobel_y = np.array([[1, 2, 1], [0, 0, 0], [-1, -2, -1]], np.float32)\n",
    "grad_x = cv2.filter2D(smooth, -1, sobel_x)\n",
    "grad_y = cv2.filter2D(smooth, -1, sobel_y)\n",
    "\n",
    "\n",
    "# Compute elements of the auto-correlation matrix\n",
    "ixx = grad_x * grad_x\n",
    "ixy = grad_x * grad_y\n",
    "iyy = grad_y * grad_y\n",
    "\n",
    "# Smooth the elements of the auto-correlation matrix\n",
    "ixx_padded = np.full((7, 7), np.average(ixx), dtype=np.float32)\n",
    "ixx_padded[1:6, 1:6] = ixx\n",
    "ixy_padded = np.full((7, 7), np.average(ixy), dtype=np.float32)\n",
    "ixy_padded[1:6, 1:6] = ixy\n",
    "iyy_padded = np.full((7, 7), np.average(iyy), dtype=np.float32)\n",
    "iyy_padded[1:6, 1:6] = iyy\n",
    "\n",
    "# Gaussian blur the auto-correlation matrices\n",
    "sxx = cv2.filter2D(ixx_padded, -1, gaussian)[1:6, 1:6]\n",
    "sxy = cv2.filter2D(ixy_padded, -1, gaussian)[1:6, 1:6]\n",
    "syy = cv2.filter2D(iyy_padded, -1, gaussian)[1:6, 1:6]\n",
    "\n",
    "# Compute Harris corner response\n",
    "R = np.zeros((5, 5), dtype=np.float32)\n",
    "for i in range(5):\n",
    "    for j in range(5):\n",
    "        M = np.array([[sxx[i, j], sxy[i, j]],\n",
    "                        [sxy[i, j], syy[i, j]]], dtype=np.float32)\n",
    "        lambdas = np.linalg.eigvals(M)\n",
    "        R[i, j] = (lambdas[0] * lambdas[1]) - 0.05 * ((lambdas[0] + lambdas[1]) ** 2)\n",
    "\n",
    "\n",
    " # Thresholding\n",
    "R_max = np.max(R)\n",
    "thresholded_corners = np.zeros_like(image)\n",
    "thresholded_corners[R > 0.05 * R_max] = 1\n",
    "print(thresholded_corners)"
   ]
  },
  {
   "cell_type": "code",
   "execution_count": 166,
   "metadata": {},
   "outputs": [
    {
     "data": {
      "text/plain": [
       "<matplotlib.image.AxesImage at 0x1930bc6e550>"
      ]
     },
     "execution_count": 166,
     "metadata": {},
     "output_type": "execute_result"
    },
    {
     "data": {
      "image/png": "[encoded data removed]",
      "text/plain": [
       "<Figure size 640x480 with 1 Axes>"
      ]
     },
     "metadata": {},
     "output_type": "display_data"
    }
   ],
   "source": [
    "corner_response = cv2.cornerHarris(image, blockSize=2, ksize=3, k=0.04)\n",
    "plt.imshow(corner_response, cmap = 'gray')"
   ]
  }
 ],
 "metadata": {
  "kernelspec": {
   "display_name": "Python 3",
   "language": "python",
   "name": "python3"
  },
  "language_info": {
   "codemirror_mode": {
    "name": "ipython",
    "version": 3
   },
   "file_extension": ".py",
   "mimetype": "text/x-python",
   "name": "python",
   "nbconvert_exporter": "python",
   "pygments_lexer": "ipython3",
   "version": "3.11.4"
  }
 },
 "nbformat": 4,
 "nbformat_minor": 2
}
